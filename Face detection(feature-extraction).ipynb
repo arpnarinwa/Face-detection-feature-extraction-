{
 "cells": [
  {
   "cell_type": "markdown",
   "metadata": {},
   "source": [
    "# feature-extraction"
   ]
  },
  {
   "cell_type": "code",
   "execution_count": 2,
   "metadata": {},
   "outputs": [],
   "source": [
    "!pip install jovian --upgrade --quiet"
   ]
  },
  {
   "cell_type": "code",
   "execution_count": 3,
   "metadata": {},
   "outputs": [],
   "source": [
    "import jovian"
   ]
  },
  {
   "cell_type": "code",
   "execution_count": null,
   "metadata": {},
   "outputs": [
    {
     "data": {
      "application/javascript": [
       "window.require && require([\"base/js/namespace\"],function(Jupyter){Jupyter.notebook.save_checkpoint()})"
      ],
      "text/plain": [
       "<IPython.core.display.Javascript object>"
      ]
     },
     "metadata": {},
     "output_type": "display_data"
    }
   ],
   "source": [
    "# Execute this to save new versions of the notebook\n",
    "jovian.commit(project=\"feature-extraction\")"
   ]
  },
  {
   "cell_type": "code",
   "execution_count": null,
   "metadata": {},
   "outputs": [],
   "source": [
    "import pandas as pd\n",
    "import numpy as np\n",
    "import matplotlib.pyplot as plt\n",
    "%matplotlib inline\n",
    "from skimage.io import imread, imshow\n",
    "\n",
    "image = imread('https://th.bing.com/th/id/OIP.HMwiJdVhjdIaaqh536gjGAHaHa?w=182&h=182&c=7&o=5&pid=1.7',as_gray=True)\n",
    "imshow(image)"
   ]
  },
  {
   "cell_type": "code",
   "execution_count": 5,
   "metadata": {},
   "outputs": [
    {
     "data": {
      "text/plain": [
       "((182, 182),\n",
       " array([[0.96660275, 0.96268118, 0.95875961, ..., 0.97166314, 0.97558471,\n",
       "         0.98147843],\n",
       "        [0.96660275, 0.96268118, 0.95875961, ..., 0.97166314, 0.97166314,\n",
       "         0.98147843],\n",
       "        [0.96660275, 0.96268118, 0.95875961, ..., 0.96774157, 0.96774157,\n",
       "         0.97755686],\n",
       "        ...,\n",
       "        [0.20614588, 0.20614588, 0.20222431, ..., 0.25932863, 0.28285804,\n",
       "         0.27109333],\n",
       "        [0.21398902, 0.20614588, 0.19830275, ..., 0.2632502 , 0.29070118,\n",
       "         0.2750149 ],\n",
       "        [0.23359686, 0.21398902, 0.19045961, ..., 0.2632502 , 0.29462275,\n",
       "         0.27893647]]))"
      ]
     },
     "execution_count": 5,
     "metadata": {},
     "output_type": "execute_result"
    }
   ],
   "source": [
    "#checking image shape \n",
    "image.shape, image"
   ]
  },
  {
   "cell_type": "code",
   "execution_count": 6,
   "metadata": {},
   "outputs": [
    {
     "name": "stdout",
     "output_type": "stream",
     "text": [
      "Shape of the image is =  (182, 182)\n",
      "\n",
      "\n",
      "Image matrix\n",
      "\n",
      " [[0.96660275 0.96268118 0.95875961 ... 0.97166314 0.97558471 0.98147843]\n",
      " [0.96660275 0.96268118 0.95875961 ... 0.97166314 0.97166314 0.98147843]\n",
      " [0.96660275 0.96268118 0.95875961 ... 0.96774157 0.96774157 0.97755686]\n",
      " ...\n",
      " [0.20614588 0.20614588 0.20222431 ... 0.25932863 0.28285804 0.27109333]\n",
      " [0.21398902 0.20614588 0.19830275 ... 0.2632502  0.29070118 0.2750149 ]\n",
      " [0.23359686 0.21398902 0.19045961 ... 0.2632502  0.29462275 0.27893647]]\n"
     ]
    }
   ],
   "source": [
    "'''\n",
    "The following code is to Read the Image Data\n",
    "'''\n",
    "\n",
    "from skimage.io import imread, imshow\n",
    "image = imread('https://th.bing.com/th/id/OIP.HMwiJdVhjdIaaqh536gjGAHaHa?w=182&h=182&c=7&o=5&pid=1.7', as_gray=True)\n",
    "\n",
    "'''Uncomment the following lines of code to display image in Jupyter notebook'''\n",
    "\n",
    "# import matplotlib.pyplot as plt\n",
    "# %matplotlib inline\n",
    "#imshow(image)\n",
    "\n",
    "#checking image shape \n",
    "print('Shape of the image is = ',image.shape)\n",
    "\n",
    "# image matrix\n",
    "print('\\n\\nImage matrix\\n\\n',image)"
   ]
  },
  {
   "cell_type": "code",
   "execution_count": 7,
   "metadata": {},
   "outputs": [
    {
     "name": "stdout",
     "output_type": "stream",
     "text": [
      "\n",
      "\n",
      "Shape of the image =  (182, 182)\n",
      "\n",
      "\n",
      "Shape of the feature array =  (33124,)\n",
      "\n",
      "\n",
      "Feature Array\n",
      "\n",
      " [0.96660275 0.96268118 0.95875961 ... 0.2632502  0.29462275 0.27893647]\n"
     ]
    }
   ],
   "source": [
    "'''\n",
    "Grayscale Pixel Values as Features\n",
    "'''\n",
    "# importing library and read the image \n",
    "import numpy as np\n",
    "from skimage.io import imread, imshow\n",
    "image = imread('https://th.bing.com/th/id/OIP.HMwiJdVhjdIaaqh536gjGAHaHa?w=182&h=182&c=7&o=5&pid=1.7', as_gray=True) \n",
    "\n",
    "# shape of the image\n",
    "print('\\n\\nShape of the image = ',image.shape)\n",
    "\n",
    "# create features\n",
    "features = np.reshape(image, (182*182))\n",
    "\n",
    "# shape of feature array\n",
    "print('\\n\\nShape of the feature array = ',features.shape)\n",
    "\n",
    "print('\\n\\nFeature Array\\n\\n',features)"
   ]
  },
  {
   "cell_type": "code",
   "execution_count": 1,
   "metadata": {},
   "outputs": [
    {
     "data": {
      "application/javascript": [
       "window.require && require([\"base/js/namespace\"],function(Jupyter){Jupyter.notebook.save_checkpoint()})"
      ],
      "text/plain": [
       "<IPython.core.display.Javascript object>"
      ]
     },
     "metadata": {},
     "output_type": "display_data"
    },
    {
     "name": "stdout",
     "output_type": "stream",
     "text": [
      "[jovian] Updating notebook \"arpnabarekan111/feature-extraction\" on https://jovian.ai\u001b[0m\n",
      "[jovian] Committed successfully! https://jovian.ai/arpnabarekan111/feature-extraction\u001b[0m\n"
     ]
    },
    {
     "data": {
      "text/plain": [
       "'https://jovian.ai/arpnabarekan111/feature-extraction'"
      ]
     },
     "execution_count": 1,
     "metadata": {},
     "output_type": "execute_result"
    }
   ],
   "source": [
    "# Execute this to save new versions of the notebook\n",
    "jovian.commit(project=\"feature-extraction\")"
   ]
  },
  {
   "cell_type": "code",
   "execution_count": null,
   "metadata": {},
   "outputs": [],
   "source": []
  }
 ],
 "metadata": {
  "language_info": {
   "codemirror_mode": {
    "name": "ipython",
    "version": 3
   },
   "file_extension": ".py",
   "mimetype": "text/x-python",
   "name": "python",
   "nbconvert_exporter": "python",
   "pygments_lexer": "ipython3",
   "version": "3.9.5"
  }
 },
 "nbformat": 4,
 "nbformat_minor": 2
}